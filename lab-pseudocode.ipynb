{
 "cells": [
  {
   "cell_type": "markdown",
   "metadata": {},
   "source": [
    "# PSEUDOCODE"
   ]
  },
  {
   "cell_type": "markdown",
   "metadata": {},
   "source": [
    "In this lab, you will work to find any solution(hopefully the easiest) to complete this exercise."
   ]
  },
  {
   "cell_type": "markdown",
   "metadata": {},
   "source": [
    "RANDOM GUESS OF A NUMBER\n",
    "\n",
    "The user must give you the start and final number. Your code must be developed to select a random number between this 2. If your selection is too high/low you must give a hint to the user: The number is too high/low. Finally, when the user selects the correct number you must return a \"Congratulations etc\" and the number of guesses needed to find the number. \n",
    "\n",
    "IF YOU TRY IT AND YOU FIND THE NUMBER FIRST GUESS, PLEASE SEND A SCREENSHOT VIA SLACK `(MANDATORY)`"
   ]
  },
  {
   "cell_type": "code",
   "execution_count": 11,
   "metadata": {},
   "outputs": [],
   "source": [
    "# Your code here\n",
    "import random \n"
   ]
  },
  {
   "cell_type": "code",
   "execution_count": 12,
   "metadata": {},
   "outputs": [],
   "source": [
    "#random.randint(0,10)"
   ]
  },
  {
   "cell_type": "markdown",
   "metadata": {},
   "source": [
    "Inputs: el rango de valores entre el que se tiene que encontrar el random\n",
    "\n",
    "output: un random number dentro del rango"
   ]
  },
  {
   "cell_type": "code",
   "execution_count": 13,
   "metadata": {},
   "outputs": [],
   "source": [
    "\n",
    "def adivinar_numero():\n",
    "    inicio = int(input(\"Introduce el número inicial del rango:\"))\n",
    "    final = int(input(\"Introduce el número final del rango:\"))\n",
    "    # generar un número aleatorio dentro del rango\n",
    "    random_number = random.randint(inicio, final) # el número final está incluido / es el número que me da el ordenador\n",
    "\n",
    "    print(f\"Adivina el número random entre {inicio} y {final}\")\n",
    "    intentos = 0\n",
    "\n",
    "    while True:  # bucle que permite al usuario adivinar hasta que acierte\n",
    "        user_number = int(input(f\"Introduce tu número entre {inicio} y {final}\"))\n",
    "        if user_number > random_number:\n",
    "            print(f\"el {user_number} es demasiado alto!\")\n",
    "            intentos += 1\n",
    "        elif user_number < random_number:\n",
    "            print(f\"el {user_number} es demasiado bajo!\")\n",
    "            intentos += 1\n",
    "        else: \n",
    "            intentos += 1\n",
    "            print(f\"Enhorabuena, el {user_number} es el número correcto!! Has acertado en {intentos} intentos\")\n",
    "            break # sale del bucle\n",
    "\n",
    "\n",
    "    "
   ]
  },
  {
   "cell_type": "markdown",
   "metadata": {},
   "source": []
  },
  {
   "cell_type": "code",
   "execution_count": 27,
   "metadata": {},
   "outputs": [
    {
     "name": "stdout",
     "output_type": "stream",
     "text": [
      "Adivina el número random entre 1 y 10\n",
      "el 7 es demasiado alto!\n",
      "el 5 es demasiado bajo!\n",
      "Enhorabuena, el 6 es el número correcto!! Has acertado en 3 intentos\n"
     ]
    }
   ],
   "source": [
    "adivinar_numero()"
   ]
  },
  {
   "cell_type": "code",
   "execution_count": 28,
   "metadata": {},
   "outputs": [],
   "source": [
    "def adivinar_numero_otro(): # es una prueba para mí\n",
    "    inicio = int(input(\"Introduce el número inicial del rango:\"))\n",
    "    final = int(input(\"Introduce el número final del rango:\"))\n",
    "    # generar un número aleatorio dentro del rango\n",
    "    random_number = random.randint(inicio, final) # el número final está incluido / es el número que me da el ordenador\n",
    "\n",
    "    print(f\"Adivina el número random entre {inicio} y {final}\")\n",
    "    intentos = 0\n",
    "\n",
    "    while True:  # bucle que permite al usuario adivinar hasta que acierte\n",
    "        user_number = int(input(f\"Introduce tu número entre {inicio} y {final}\"))\n",
    "        intentos += 1\n",
    "    \n",
    "        if user_number > random_number:\n",
    "            print(f\"el {user_number} es demasiado alto!\")\n",
    "            \n",
    "        elif user_number < random_number:\n",
    "            print(f\"el {user_number} es demasiado bajo!\")\n",
    "           \n",
    "        else: \n",
    "            print(f\"Enhorabuena, el {user_number} es el número correcto!! Has acertado en {intentos} intentos\")\n",
    "            break # sale del bucle"
   ]
  },
  {
   "cell_type": "code",
   "execution_count": 29,
   "metadata": {},
   "outputs": [
    {
     "name": "stdout",
     "output_type": "stream",
     "text": [
      "Adivina el número random entre 1 y 10\n",
      "el 4 es demasiado bajo!\n",
      "el 7 es demasiado alto!\n",
      "el 6 es demasiado alto!\n",
      "Enhorabuena, el 5 es el número correcto!! Has acertado en 4 intentos\n"
     ]
    }
   ],
   "source": [
    "adivinar_numero_otro()"
   ]
  },
  {
   "cell_type": "code",
   "execution_count": null,
   "metadata": {},
   "outputs": [],
   "source": []
  }
 ],
 "metadata": {
  "kernelspec": {
   "display_name": "toni2",
   "language": "python",
   "name": "python3"
  },
  "language_info": {
   "codemirror_mode": {
    "name": "ipython",
    "version": 3
   },
   "file_extension": ".py",
   "mimetype": "text/x-python",
   "name": "python",
   "nbconvert_exporter": "python",
   "pygments_lexer": "ipython3",
   "version": "3.12.5"
  }
 },
 "nbformat": 4,
 "nbformat_minor": 2
}
